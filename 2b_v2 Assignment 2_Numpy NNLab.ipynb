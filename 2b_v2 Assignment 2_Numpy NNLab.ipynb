{
  "cells": [
    {
      "cell_type": "markdown",
      "metadata": {
        "id": "FFQqu9kQ1wUn"
      },
      "source": [
        "# Backpropagation in Multilayer Neural Networks\n",
        "\n",
        "### Goals: \n",
        "- implementING a real gradient descent in `Numpy`\n",
        "\n",
        "### Dataset:\n",
        "\n",
        "- [sklearn.datasets.load_digits](http://scikit-learn.org/stable/modules/generated/sklearn.datasets.load_digits.html#sklearn.datasets.load_digits)"
      ]
    },
    {
      "cell_type": "code",
      "execution_count": 206,
      "metadata": {
        "id": "aZ4qmncV1wUv"
      },
      "outputs": [],
      "source": [
        "%matplotlib inline\n",
        "import matplotlib.pyplot as plt\n",
        "import numpy as np\n",
        "from sklearn.datasets import load_digits\n",
        "\n",
        "digits = load_digits()"
      ]
    },
    {
      "cell_type": "code",
      "execution_count": 207,
      "metadata": {
        "id": "KBZGV7I71wU2"
      },
      "outputs": [
        {
          "data": {
            "image/png": "[encoded data removed]",
            "text/plain": [
              "<Figure size 300x300 with 1 Axes>"
            ]
          },
          "metadata": {},
          "output_type": "display_data"
        }
      ],
      "source": [
        "sample_index = 45\n",
        "plt.figure(figsize=(3, 3))\n",
        "plt.imshow(digits.images[sample_index], cmap=plt.cm.gray_r,\n",
        "           interpolation='nearest')\n",
        "plt.title(\"image label: %d\" % digits.target[sample_index]);"
      ]
    },
    {
      "cell_type": "markdown",
      "metadata": {
        "id": "DH6jQzGr1wU3"
      },
      "source": [
        "### Preprocessing\n",
        "\n",
        "- Normalization\n",
        "- Train / test split"
      ]
    },
    {
      "cell_type": "code",
      "execution_count": 208,
      "metadata": {
        "id": "k-IMnzfn1wU6"
      },
      "outputs": [
        {
          "name": "stdout",
          "output_type": "stream",
          "text": [
            "[0.00000000e+00 2.98624754e-01 5.19253438e+00 1.18428291e+01\n",
            " 1.18565815e+01 5.81008513e+00 1.34774067e+00 1.19187950e-01\n",
            " 6.54878847e-03 1.99345121e+00 1.03464309e+01 1.19305828e+01\n",
            " 1.02626064e+01 8.20497708e+00 1.84348396e+00 9.88867060e-02\n",
            " 3.27439424e-03 2.61624100e+00 9.83497053e+00 6.87098887e+00\n",
            " 7.11263916e+00 7.83759005e+00 1.75376555e+00 4.45317616e-02\n",
            " 1.30975769e-03 2.48788474e+00 9.04453176e+00 8.73280943e+00\n",
            " 9.98231827e+00 7.57105435e+00 2.26850033e+00 2.61951539e-03\n",
            " 0.00000000e+00 2.36149312e+00 7.68369352e+00 9.07924034e+00\n",
            " 1.03713163e+01 8.79240341e+00 2.89980354e+00 0.00000000e+00\n",
            " 8.51342502e-03 1.57039948e+00 6.84937787e+00 7.22855272e+00\n",
            " 7.65029470e+00 8.26522593e+00 3.48592010e+00 2.61951539e-02\n",
            " 8.51342502e-03 6.83693517e-01 7.49312377e+00 9.56516045e+00\n",
            " 9.36869679e+00 8.77668631e+00 3.76686313e+00 2.08906352e-01\n",
            " 6.54878847e-04 2.78978389e-01 5.53700065e+00 1.20595940e+01\n",
            " 1.17832351e+01 6.81990832e+00 2.07465619e+00 3.42501637e-01]\n",
            "[1.         0.91047427 4.7374689  4.2596075  4.30740756 5.68243451\n",
            " 3.297153   1.00890202 0.1021527  3.21973435 5.41080791 3.99431831\n",
            " 4.76326912 6.05761695 3.54497649 0.78795289 0.06762714 3.59537624\n",
            " 5.75591792 5.79499054 6.17007513 6.2038986  3.17131626 0.42435038\n",
            " 0.03616687 3.17586736 6.22714403 5.87843373 6.12768111 5.88661923\n",
            " 3.63961998 0.05111412 1.         3.51146087 6.35184404 6.26198455\n",
            " 5.9237937  5.86282796 3.54313581 1.         0.13754639 2.96676439\n",
            " 6.52281056 6.46350062 6.27357413 5.66458127 4.32560244 0.31021909\n",
            " 0.22145752 1.71021508 5.62991343 5.23221511 5.31295779 6.03074691\n",
            " 4.94044448 0.99650958 0.02558222 0.94066092 5.07505291 4.37977558\n",
            " 4.96650542 5.9209746  4.05023217 1.78068507]\n"
          ]
        }
      ],
      "source": [
        "from sklearn import preprocessing\n",
        "from sklearn.model_selection import train_test_split\n",
        "\n",
        "data = np.asarray(digits.data, dtype='float32')\n",
        "target = np.asarray(digits.target, dtype='int32')\n",
        "\n",
        "X_train, X_test, y_train, y_test = train_test_split(\n",
        "    data, target, test_size=0.15, random_state=37)\n",
        "\n",
        "# mean = 0 ; standard deviation = 1.0\n",
        "scaler = preprocessing.StandardScaler()\n",
        "X_train = scaler.fit_transform(X_train)\n",
        "X_test = scaler.transform(X_test)\n",
        "\n",
        "print(scaler.mean_)\n",
        "print(scaler.scale_)"
      ]
    },
    {
      "cell_type": "code",
      "execution_count": 209,
      "metadata": {
        "id": "12z9gVIH1wU7"
      },
      "outputs": [
        {
          "data": {
            "text/plain": [
              "(1527, 64)"
            ]
          },
          "execution_count": 209,
          "metadata": {},
          "output_type": "execute_result"
        }
      ],
      "source": [
        "X_train.shape"
      ]
    },
    {
      "cell_type": "code",
      "execution_count": 210,
      "metadata": {
        "id": "QiAVkmYc1wU9"
      },
      "outputs": [
        {
          "data": {
            "text/plain": [
              "dtype('float32')"
            ]
          },
          "execution_count": 210,
          "metadata": {},
          "output_type": "execute_result"
        }
      ],
      "source": [
        "X_train.dtype"
      ]
    },
    {
      "cell_type": "code",
      "execution_count": 211,
      "metadata": {
        "id": "uOZ-O7s71wU-"
      },
      "outputs": [
        {
          "data": {
            "text/plain": [
              "(270, 64)"
            ]
          },
          "execution_count": 211,
          "metadata": {},
          "output_type": "execute_result"
        }
      ],
      "source": [
        "X_test.shape"
      ]
    },
    {
      "cell_type": "code",
      "execution_count": 212,
      "metadata": {
        "id": "qleFYsS01wVA"
      },
      "outputs": [
        {
          "data": {
            "text/plain": [
              "(1527,)"
            ]
          },
          "execution_count": 212,
          "metadata": {},
          "output_type": "execute_result"
        }
      ],
      "source": [
        "y_train.shape"
      ]
    },
    {
      "cell_type": "code",
      "execution_count": 213,
      "metadata": {
        "id": "v89njmkk1wVB"
      },
      "outputs": [
        {
          "data": {
            "text/plain": [
              "dtype('int32')"
            ]
          },
          "execution_count": 213,
          "metadata": {},
          "output_type": "execute_result"
        }
      ],
      "source": [
        "y_train.dtype"
      ]
    },
    {
      "cell_type": "markdown",
      "metadata": {
        "id": "E-8250QJ1wVC"
      },
      "source": [
        "# Numpy Implementation\n",
        "\n",
        "## a) Logistic Regression\n",
        "\n",
        "In this section we will implement a logistic regression model trainable with SGD using numpy. Here are the objectives:\n",
        "\n",
        "- Implement a simple forward model with no hidden layer (equivalent to a logistic regression):\n",
        "note: shape, transpose of W with regards to course\n",
        "$y = softmax(\\mathbf{W} \\dot x + b)$\n",
        "\n",
        "- Build a predict function which returns the most probable class given an input $x$\n",
        "\n",
        "- Build an accuracy function for a batch of inputs $X$ and the corresponding expected outputs $y_{true}$\n",
        "\n",
        "- Build a grad function which computes $\\frac{d}{dW} -\\log(softmax(W \\dot x + b))$ for an $x$ and its corresponding expected output $y_{true}$ ; check that the gradients are well defined\n",
        "\n",
        "- Build a train function which uses the grad function output to update $\\mathbf{W}$ and $b$\n",
        "\n",
        "\n",
        "### One-hot encoding for class label data\n",
        "\n",
        "First let's define a helper function to compute the one hot encoding of an integer array for a fixed number of classes (similar to keras' `to_categorical`):"
      ]
    },
    {
      "cell_type": "code",
      "execution_count": 214,
      "metadata": {
        "id": "6ksbtoKu1wVE"
      },
      "outputs": [],
      "source": [
        "def one_hot(n_classes, y):\n",
        "    return np.eye(n_classes)[y]"
      ]
    },
    {
      "cell_type": "code",
      "execution_count": 215,
      "metadata": {
        "id": "hUxp0yfa1wVF"
      },
      "outputs": [
        {
          "data": {
            "text/plain": [
              "array([0., 0., 0., 1., 0., 0., 0., 0., 0., 0.])"
            ]
          },
          "execution_count": 215,
          "metadata": {},
          "output_type": "execute_result"
        }
      ],
      "source": [
        "one_hot(n_classes=10, y=3)"
      ]
    },
    {
      "cell_type": "code",
      "execution_count": 216,
      "metadata": {
        "id": "BjVuJBhi1wVG"
      },
      "outputs": [
        {
          "data": {
            "text/plain": [
              "array([[1., 0., 0., 0., 0., 0., 0., 0., 0., 0.],\n",
              "       [0., 0., 0., 0., 1., 0., 0., 0., 0., 0.],\n",
              "       [0., 0., 0., 0., 0., 0., 0., 0., 0., 1.],\n",
              "       [0., 1., 0., 0., 0., 0., 0., 0., 0., 0.]])"
            ]
          },
          "execution_count": 216,
          "metadata": {},
          "output_type": "execute_result"
        }
      ],
      "source": [
        "one_hot(n_classes=10, y=[0, 4, 9, 1])"
      ]
    },
    {
      "cell_type": "markdown",
      "metadata": {
        "id": "0DZjFkMX1wVH"
      },
      "source": [
        "### The softmax function\n",
        "\n",
        "Now let's implement the softmax vector function:\n",
        "\n",
        "$$\n",
        "softmax(\\mathbf{x}) = \\frac{1}{\\sum_{i=1}^{n}{e^{x_i}}}\n",
        "\\cdot\n",
        "\\begin{bmatrix}\n",
        "  e^{x_1}\\\\\\\\\n",
        "  e^{x_2}\\\\\\\\\n",
        "  \\vdots\\\\\\\\\n",
        "  e^{x_n}\n",
        "\\end{bmatrix}\n",
        "$$"
      ]
    },
    {
      "cell_type": "code",
      "execution_count": 217,
      "metadata": {
        "id": "WJ6SjDZZ1wVH"
      },
      "outputs": [],
      "source": [
        "def softmax(X):\n",
        "    \"\"\"\n",
        "    Argument:\n",
        "    x -- A numpy matrix of shape (m,n)\n",
        "\n",
        "    Returns:\n",
        "    s -- A numpy matrix equal to the softmax of x, of shape (m,n)\n",
        "    \"\"\"\n",
        "    # Apply exp() element-wise to X. Use np.exp(...).\n",
        "    x_exp = np.exp(X)\n",
        "\n",
        "    # Create a vector x_sum that sums each row of x_exp.\n",
        "    x_sum = np.sum(x_exp, keepdims=True)\n",
        "\n",
        "    # Compute softmax(x) by dividing x_exp by x_sum. It should automatically use numpy broadcasting.\n",
        "    s = x_exp/x_sum\n",
        "\n",
        "    ### END CODE HERE ###\n",
        "\n",
        "    return s"
      ]
    },
    {
      "cell_type": "markdown",
      "metadata": {
        "id": "48zyC_Vh1wVJ"
      },
      "source": [
        "Make sure that this works one vector at a time (and check that the components sum to one):"
      ]
    },
    {
      "cell_type": "code",
      "execution_count": 218,
      "metadata": {
        "id": "bAJ9JTJQ1wVK"
      },
      "outputs": [
        {
          "name": "stdout",
          "output_type": "stream",
          "text": [
            "[9.99662391e-01 3.35349373e-04 2.25956630e-06]\n"
          ]
        }
      ],
      "source": [
        "print(softmax([10, 2, -3]))"
      ]
    },
    {
      "cell_type": "markdown",
      "metadata": {
        "id": "oFPuVcfX1wVK"
      },
      "source": [
        "Note that a naive implementation of softmax might not be able process a batch of activations in a single call:"
      ]
    },
    {
      "cell_type": "code",
      "execution_count": 219,
      "metadata": {
        "id": "LZDytSj61wVL"
      },
      "outputs": [
        {
          "name": "stdout",
          "output_type": "stream",
          "text": [
            "[[9.92957576e-01 3.33100158e-04 2.24441121e-06]\n",
            " [1.65840803e-05 6.69049552e-03 9.29172262e-14]]\n"
          ]
        }
      ],
      "source": [
        "X = np.array([[10, 2, -3],\n",
        "              [-1, 5, -20]])\n",
        "print(softmax(X))"
      ]
    },
    {
      "cell_type": "markdown",
      "metadata": {
        "id": "mJwiJd5A1wVL"
      },
      "source": [
        "Here is a way to implement softmax that works both for an individual vector of activations and for a batch of activation vectors at once:"
      ]
    },
    {
      "cell_type": "code",
      "execution_count": 220,
      "metadata": {
        "id": "GwRan5GA1wVL"
      },
      "outputs": [
        {
          "name": "stdout",
          "output_type": "stream",
          "text": [
            "softmax of a single vector:\n",
            "[9.99662391e-01 3.35349373e-04 2.25956630e-06]\n"
          ]
        }
      ],
      "source": [
        "def softmax(X):\n",
        "    exp = np.exp(X)\n",
        "    return exp / np.sum(exp, axis=-1, keepdims=True)\n",
        "\n",
        "\n",
        "print(\"softmax of a single vector:\")\n",
        "print(softmax([10, 2, -3]))"
      ]
    },
    {
      "cell_type": "markdown",
      "metadata": {
        "id": "Z5ns5BUw1wVM"
      },
      "source": [
        "Probabilities should sum to 1:"
      ]
    },
    {
      "cell_type": "code",
      "execution_count": 221,
      "metadata": {
        "id": "cnCqqwjf1wVM"
      },
      "outputs": [
        {
          "name": "stdout",
          "output_type": "stream",
          "text": [
            "1.0\n"
          ]
        }
      ],
      "source": [
        "print(np.sum(softmax([10, 2, -3])))"
      ]
    },
    {
      "cell_type": "code",
      "execution_count": 222,
      "metadata": {
        "id": "q5H7V3Ue1wVN"
      },
      "outputs": [
        {
          "name": "stdout",
          "output_type": "stream",
          "text": [
            "sotfmax of 2 vectors:\n",
            "[[9.99662391e-01 3.35349373e-04 2.25956630e-06]\n",
            " [2.47262316e-03 9.97527377e-01 1.38536042e-11]]\n"
          ]
        }
      ],
      "source": [
        "print(\"sotfmax of 2 vectors:\")\n",
        "X = np.array([[10, 2, -3],\n",
        "              [-1, 5, -20]])\n",
        "print(softmax(X))"
      ]
    },
    {
      "cell_type": "markdown",
      "metadata": {
        "id": "Iw3SsyPk1wVN"
      },
      "source": [
        "The sum of probabilities for each input vector of logits should some to 1:"
      ]
    },
    {
      "cell_type": "code",
      "execution_count": 223,
      "metadata": {
        "id": "PbUrYvdK1wVO"
      },
      "outputs": [
        {
          "name": "stdout",
          "output_type": "stream",
          "text": [
            "[1. 1.]\n"
          ]
        }
      ],
      "source": [
        "print(np.sum(softmax(X), axis=1))"
      ]
    },
    {
      "cell_type": "markdown",
      "metadata": {
        "id": "KCbLl24e1wVO"
      },
      "source": [
        "Implement a function that given the true one-hot encoded class `Y_true` and and some predicted probabilities `Y_pred` returns the negative log likelihood."
      ]
    },
    {
      "cell_type": "code",
      "execution_count": 224,
      "metadata": {
        "id": "4N08hTMq1wVO"
      },
      "outputs": [
        {
          "name": "stdout",
          "output_type": "stream",
          "text": [
            "0.01005033585350145\n"
          ]
        }
      ],
      "source": [
        "def nll(Y_true, Y_pred):\n",
        "    Y_true = np.asarray(Y_true)\n",
        "    Y_pred = np.asarray(Y_pred)\n",
        "    \"\"\"Computes the negative log-likelihood loss for a given set of predictions and labels.\n",
        "\n",
        "    Args:\n",
        "        Y_true: A NumPy array of true labels.\n",
        "        Y_pred: A NumPy array of predicted probabilities.\n",
        "\n",
        "    Returns:\n",
        "        A scalar value representing the negative log-likelihood loss.\n",
        "    \"\"\"\n",
        "    # Ensure Y_pred is within a small range to avoid log(0)\n",
        "    epsilon = 1e-15\n",
        "    Y_pred = np.clip(Y_pred, epsilon, 1 - epsilon)\n",
        "\n",
        "    # # Compute the log-likelihood of the predictions and apply the negative sign.\n",
        "    # log_likelihood = -np.sum(Y_true * np.log(Y_pred) + (1 - Y_true) * np.log(1 - Y_pred))\n",
        "\n",
        "    # # Return the negative log-likelihood.\n",
        "    # return log_likelihood\n",
        "\n",
        "    \n",
        "    \n",
        "    # Calculate the negative log likelihood\n",
        "    nll_loss = -np.sum(Y_true * np.log(Y_pred))\n",
        "    \n",
        "    return nll_loss\n",
        "\n",
        "\n",
        "# Make sure that it works for a simple sample at a time\n",
        "print(nll([1, 0, 0], [.99, 0.01, 0]))"
      ]
    },
    {
      "cell_type": "markdown",
      "metadata": {
        "id": "YBNwy4nN1wVP"
      },
      "source": [
        "Check that the nll of a very confident yet bad prediction is a much higher positive number:"
      ]
    },
    {
      "cell_type": "code",
      "execution_count": 225,
      "metadata": {
        "id": "aSdQMqdl1wVP"
      },
      "outputs": [
        {
          "name": "stdout",
          "output_type": "stream",
          "text": [
            "4.605170185988091\n"
          ]
        }
      ],
      "source": [
        "print(nll([1, 0, 0], [0.01, 0.01, .98]))"
      ]
    },
    {
      "cell_type": "markdown",
      "metadata": {
        "id": "zUOhtqAk1wVQ"
      },
      "source": [
        "Make sure that your implementation can compute the average negative log likelihood of a group of predictions: `Y_pred` and `Y_true` can therefore be past as 2D arrays:"
      ]
    },
    {
      "cell_type": "code",
      "execution_count": 226,
      "metadata": {
        "id": "PaG_cWQ-1wVR"
      },
      "outputs": [],
      "source": [
        "def nll(Y_true, Y_pred):\n",
        "    Y_true = np.atleast_2d(Y_true)\n",
        "    Y_pred = np.atleast_2d(Y_pred)\n",
        "    # Ensure Y_pred is within a small range to avoid log(0)\n",
        "    epsilon = 1e-15\n",
        "    Y_pred = np.clip(Y_pred, epsilon, 1 - epsilon)\n",
        "\n",
        "    # # Compute the log-likelihood of the predictions and apply the negative sign.\n",
        "    # log_likelihood = -np.sum(Y_true * np.log(Y_pred) + (1 - Y_true) * np.log(1 - Y_pred), axis=1)\n",
        "\n",
        "    # # Return the negative log-likelihood.\n",
        "    # return log_likelihood\n",
        "\n",
        "    \n",
        "    \n",
        "    # Calculate the negative log likelihood\n",
        "    nll_loss = -np.sum(Y_true * np.log(Y_pred), axis=1)\n",
        "    \n",
        "    return nll_loss\n"
      ]
    },
    {
      "cell_type": "code",
      "execution_count": 227,
      "metadata": {},
      "outputs": [],
      "source": [
        "# negative log likelyhood\n",
        "def negative_log_likelihood(Y_true, Y_pred):\n",
        "    \n",
        "    Y_true = np.atleast_2d(Y_true)\n",
        "    Y_pred = np.atleast_2d(Y_pred)\n",
        "    # Clip Y_pred to avoid log(0) and log(1) issues\n",
        "    Y_pred = np.clip(Y_pred, 1e-15, 1 - 1e-15)\n",
        "    \n",
        "    # Calculate the negative log probabilities\n",
        "    neg_log_probs = -np.log(Y_pred)\n",
        "    \n",
        "    # Multiply by Y_true to only keep the elements where Y_true is 1\n",
        "    neg_log_likelihood = np.sum(neg_log_probs * Y_true)\n",
        "    \n",
        "    return neg_log_likelihood"
      ]
    },
    {
      "cell_type": "code",
      "execution_count": 228,
      "metadata": {
        "id": "PiXjK_D81wVR"
      },
      "outputs": [
        {
          "name": "stdout",
          "output_type": "stream",
          "text": [
            "[9.99200722e-16 1.00503359e-02 9.99200722e-16]\n"
          ]
        }
      ],
      "source": [
        "# Check that the average NLL of the following 3 almost perfect\n",
        "# predictions is close to 0\n",
        "Y_true = np.array([[0, 1, 0],\n",
        "                   [1, 0, 0],\n",
        "                   [0, 0, 1]])\n",
        "\n",
        "Y_pred = np.array([[0,   1,    0],\n",
        "                   [.99, 0.01, 0],\n",
        "                   [0,   0,    1]])\n",
        "\n",
        "print(nll(Y_true, Y_pred))"
      ]
    },
    {
      "cell_type": "markdown",
      "metadata": {
        "id": "WyatP1WZ1wVS"
      },
      "source": [
        "Let us now study the following linear model trainable by SGD, **one sample at a time**."
      ]
    },
    {
      "cell_type": "code",
      "execution_count": 229,
      "metadata": {
        "id": "DXLKQmP61wVT"
      },
      "outputs": [],
      "source": [
        "class LogisticRegression():\n",
        "\n",
        "    def __init__(self, input_size, output_size):\n",
        "        self.W = np.random.uniform(size=(input_size, output_size),\n",
        "                                   high=0.1, low=-0.1)\n",
        "        self.b = np.random.uniform(size=output_size,\n",
        "                                   high=0.1, low=-0.1)\n",
        "        self.output_size = output_size\n",
        "        \n",
        "    def forward(self, X):\n",
        "        Z = np.dot(X, self.W) + self.b\n",
        "        return softmax(Z)\n",
        "    \n",
        "    def predict(self, X):\n",
        "        if len(X.shape) == 1:\n",
        "            return np.argmax(self.forward(X))\n",
        "        else:\n",
        "            return np.argmax(self.forward(X), axis=1)\n",
        "    \n",
        "    def grad_loss(self, x, y_true):\n",
        "        y_pred = self.forward(x)\n",
        "        dnll_output =  y_pred - one_hot(self.output_size, y_true)\n",
        "        grad_W = np.outer(x, dnll_output)\n",
        "        grad_b = dnll_output\n",
        "        grads = {\"W\": grad_W, \"b\": grad_b}\n",
        "        return grads\n",
        "    \n",
        "    def train(self, x, y, learning_rate):\n",
        "        # Traditional SGD update without momentum\n",
        "        grads = self.grad_loss(x, y)\n",
        "        self.W = self.W - learning_rate * grads[\"W\"]\n",
        "        self.b = self.b - learning_rate * grads[\"b\"]      \n",
        "        \n",
        "    def loss(self, X, y):\n",
        "        return nll(one_hot(self.output_size, y), self.forward(X))\n",
        "\n",
        "    def accuracy(self, X, y):\n",
        "        y_preds = np.argmax(self.forward(X), axis=1)\n",
        "        return np.mean(y_preds == y)"
      ]
    },
    {
      "cell_type": "code",
      "execution_count": 230,
      "metadata": {
        "id": "FCCLw6GK1wVT"
      },
      "outputs": [
        {
          "name": "stdout",
          "output_type": "stream",
          "text": [
            "Evaluation of the untrained model:\n",
            "train loss: 2.4121, train acc: 0.066, test acc: 0.081\n"
          ]
        }
      ],
      "source": [
        "# Build a model and test its forward inference\n",
        "n_features = X_train.shape[1]\n",
        "n_classes = len(np.unique(y_train))\n",
        "lr = LogisticRegression(n_features, n_classes)\n",
        "\n",
        "print(\"Evaluation of the untrained model:\")\n",
        "train_loss = lr.loss(X_train, y_train)\n",
        "train_acc = lr.accuracy(X_train, y_train)\n",
        "test_acc = lr.accuracy(X_test, y_test)\n",
        "\n",
        "# print(\"train_loss type:\", type(train_loss))\n",
        "# print(\"train_acc type:\", type(train_acc))\n",
        "# print(\"test_acc type:\", type(test_acc))\n",
        "\n",
        "train_loss_mean = np.mean(train_loss)\n",
        "\n",
        "print(\"train loss: %0.4f, train acc: %0.3f, test acc: %0.3f\"\n",
        "      % (train_loss_mean, train_acc, test_acc))"
      ]
    },
    {
      "cell_type": "markdown",
      "metadata": {
        "id": "dTAJKsFh1wVU"
      },
      "source": [
        "Evaluate the randomly initialized model on the first example:"
      ]
    },
    {
      "cell_type": "code",
      "execution_count": 231,
      "metadata": {
        "id": "TvtSVvRG1wVU"
      },
      "outputs": [
        {
          "data": {
            "image/png": "[encoded data removed]",
            "text/plain": [
              "<Figure size 1000x400 with 2 Axes>"
            ]
          },
          "metadata": {},
          "output_type": "display_data"
        }
      ],
      "source": [
        "def plot_prediction(model, sample_idx=0, classes=range(10)):\n",
        "    fig, (ax0, ax1) = plt.subplots(nrows=1, ncols=2, figsize=(10, 4))\n",
        "\n",
        "    ax0.imshow(scaler.inverse_transform(X_test[sample_idx:sample_idx+1]).reshape(8, 8),\n",
        "               cmap=plt.cm.gray_r, interpolation='nearest')\n",
        "    ax0.set_title(\"True image label: %d\" % y_test[sample_idx]);\n",
        "\n",
        "\n",
        "    ax1.bar(classes, one_hot(len(classes), y_test[sample_idx]), label='true')\n",
        "    ax1.bar(classes, model.forward(X_test[sample_idx]), label='prediction', color=\"red\")\n",
        "    ax1.set_xticks(classes)\n",
        "    prediction = model.predict(X_test[sample_idx])\n",
        "    ax1.set_title('Output probabilities (prediction: %d)'\n",
        "                  % prediction)\n",
        "    ax1.set_xlabel('Digit class')\n",
        "    ax1.legend()\n",
        "    \n",
        "plot_prediction(lr, sample_idx=0)"
      ]
    },
    {
      "cell_type": "code",
      "execution_count": 232,
      "metadata": {
        "id": "sLng4jSo1wVV"
      },
      "outputs": [
        {
          "name": "stdout",
          "output_type": "stream",
          "text": [
            "Update #0, train loss: 2.3782, train acc: 0.084, test acc: 0.096\n",
            "Update #100, train loss: 1.3150, train acc: 0.681, test acc: 0.689\n",
            "Update #200, train loss: 0.8658, train acc: 0.848, test acc: 0.874\n",
            "Update #300, train loss: 0.6435, train acc: 0.899, test acc: 0.907\n",
            "Update #400, train loss: 0.5364, train acc: 0.906, test acc: 0.926\n",
            "Update #500, train loss: 0.4630, train acc: 0.917, test acc: 0.933\n",
            "Update #600, train loss: 0.3998, train acc: 0.927, test acc: 0.937\n",
            "Update #700, train loss: 0.3627, train acc: 0.933, test acc: 0.952\n",
            "Update #800, train loss: 0.3422, train acc: 0.939, test acc: 0.944\n",
            "Update #900, train loss: 0.3177, train acc: 0.940, test acc: 0.948\n",
            "Update #1000, train loss: 0.2983, train acc: 0.946, test acc: 0.948\n",
            "Update #1100, train loss: 0.2779, train acc: 0.949, test acc: 0.959\n",
            "Update #1200, train loss: 0.2663, train acc: 0.948, test acc: 0.963\n",
            "Update #1300, train loss: 0.2580, train acc: 0.951, test acc: 0.944\n",
            "Update #1400, train loss: 0.2431, train acc: 0.957, test acc: 0.956\n",
            "Update #1500, train loss: 0.2316, train acc: 0.954, test acc: 0.952\n"
          ]
        }
      ],
      "source": [
        "# Training for one epoch\n",
        "learning_rate = 0.01\n",
        "\n",
        "for i, (x, y) in enumerate(zip(X_train, y_train)):\n",
        "    lr.train(x, y, learning_rate)\n",
        "    if i % 100 == 0:\n",
        "        train_loss = lr.loss(X_train, y_train)\n",
        "        train_acc = lr.accuracy(X_train, y_train)\n",
        "        test_acc = lr.accuracy(X_test, y_test)\n",
        "\n",
        "        train_loss_mean = np.mean(train_loss)\n",
        "        print(\"Update #%d, train loss: %0.4f, train acc: %0.3f, test acc: %0.3f\"\n",
        "              % (i, train_loss_mean, train_acc.item(), test_acc.item()))"
      ]
    },
    {
      "cell_type": "markdown",
      "metadata": {
        "id": "_V5bC3iH1wVW"
      },
      "source": [
        "Evaluate the trained model on the first example:"
      ]
    },
    {
      "cell_type": "code",
      "execution_count": 233,
      "metadata": {
        "id": "hwikd0Cm1wVW"
      },
      "outputs": [
        {
          "data": {
            "image/png": "[encoded data removed]",
            "text/plain": [
              "<Figure size 1000x400 with 2 Axes>"
            ]
          },
          "metadata": {},
          "output_type": "display_data"
        }
      ],
      "source": [
        "plot_prediction(lr, sample_idx=0)"
      ]
    },
    {
      "cell_type": "markdown",
      "metadata": {
        "id": "layRS5Ig1wVX"
      },
      "source": [
        "## b) Feedforward Multilayer\n",
        "\n",
        "The objective of this section is to implement the backpropagation algorithm (SGD with the chain rule) on a single layer neural network using the sigmoid activation function.\n",
        "\n",
        "- Implement the `sigmoid` and its element-wise derivative `dsigmoid` functions:\n",
        "\n",
        "$$\n",
        "sigmoid(x) = \\frac{1}{1 + e^{-x}}\n",
        "$$\n",
        "\n",
        "$$\n",
        "dsigmoid(x) = sigmoid(x) \\cdot (1 - sigmoid(x))\n",
        "$$"
      ]
    },
    {
      "cell_type": "code",
      "execution_count": 234,
      "metadata": {
        "id": "NDWn4lOO1wVX"
      },
      "outputs": [
        {
          "data": {
            "text/plain": [
              "<matplotlib.legend.Legend at 0x14a98654d30>"
            ]
          },
          "execution_count": 234,
          "metadata": {},
          "output_type": "execute_result"
        },
        {
          "data": {
            "image/png": "[encoded data removed]",
            "text/plain": [
              "<Figure size 640x480 with 1 Axes>"
            ]
          },
          "metadata": {},
          "output_type": "display_data"
        }
      ],
      "source": [
        "def sigmoid(X):\n",
        "    \"\"\"\n",
        "    Compute the sigmoid function element-wise for an input array X.\n",
        "    \n",
        "    Args:\n",
        "        X: NumPy array or scalar input.\n",
        "        \n",
        "    Returns:\n",
        "        NumPy array of the same shape as X with sigmoid values.\n",
        "    \"\"\"\n",
        "    return 1 / (1 + np.exp(-X))\n",
        "\n",
        "\n",
        "def dsigmoid(X):\n",
        "    \"\"\"\n",
        "    Compute the derivative of the sigmoid function element-wise for an input array X.\n",
        "    \n",
        "    Args:\n",
        "        X: NumPy array or scalar input.\n",
        "        \n",
        "    Returns:\n",
        "        NumPy array of the same shape as X with derivative of sigmoid values.\n",
        "    \"\"\"\n",
        "    sigmoid_X = sigmoid(X)\n",
        "    return sigmoid_X * (1 - sigmoid_X)\n",
        "\n",
        "\n",
        "x = np.linspace(-5, 5, 100)\n",
        "plt.plot(x, sigmoid(x), label='sigmoid')\n",
        "plt.plot(x, dsigmoid(x), label='dsigmoid')\n",
        "plt.legend(loc='best')"
      ]
    },
    {
      "cell_type": "markdown",
      "metadata": {
        "id": "n2Xc2Zoa1wVY"
      },
      "source": [
        "- Implement `forward` and `forward_keep_all` functions for a model with a hidden layer with a sigmoid activation function:\n",
        "  - $\\mathbf{h} = sigmoid(\\mathbf{W}^h \\mathbf{x} + \\mathbf{b^h})$\n",
        "  - $\\mathbf{y} = softmax(\\mathbf{W}^o \\mathbf{h} + \\mathbf{b^o})$\n",
        "\n",
        "- Notes: \n",
        "  - try to keep the code as similar as possible as the previous one;\n",
        "  - `forward` now has a keep activations parameter to also return hidden activations and pre activations;\n",
        "\n",
        "- Update the grad function to compute all gradients; check that the gradients are well defined;\n",
        "\n",
        "- Implement the `train` and `loss` functions.\n",
        "\n",
        "**Bonus**: reimplementing all from scratch only using the lecture slides but without looking at the solution of the `LogisticRegression` is an excellent exercise."
      ]
    },
    {
      "cell_type": "code",
      "execution_count": 235,
      "metadata": {
        "id": "pagTC8sc1wVY"
      },
      "outputs": [],
      "source": [
        "EPSILON = 1e-8\n",
        "\n",
        "\n",
        "class NeuralNet():\n",
        "    \"\"\"MLP with 1 hidden layer with a sigmoid activation\"\"\"\n",
        "    \n",
        "    def __init__(self, input_size, hidden_size, output_size):\n",
        "        # Initialize weights and biases for the hidden and output layers\n",
        "        self.W_h = np.random.uniform(size=(input_size, hidden_size), high=0.1, low=-0.1)\n",
        "        self.b_h = np.random.uniform(size=hidden_size, high=0.1, low=-0.1)\n",
        "        self.W_o = np.random.uniform(size=(hidden_size, output_size), high=0.1, low=-0.1)\n",
        "        self.b_o = np.random.uniform(size=output_size, high=0.1, low=-0.1)\n",
        "        self.output_size = output_size\n",
        "    \n",
        "    # def sigmoid(self, X):\n",
        "    #     # Sigmoid activation function\n",
        "    #     return 1 / (1 + np.exp(-X))\n",
        "\n",
        "    # def softmax(self, X):\n",
        "    #     # Softmax activation function\n",
        "    #     if len(X.shape) == 1:\n",
        "    #         expX = np.exp(X - np.max(X))  # Subtracting max(X) for numerical stability\n",
        "    #         return expX / np.sum(expX)\n",
        "    #     else:\n",
        "    #         expX = np.exp(X - np.max(X, axis=1, keepdims=True))  # Subtracting max(X) for numerical stability\n",
        "    #         return expX / np.sum(expX, axis=1, keepdims=True)\n",
        "    #     # # Softmax activation function\n",
        "    #     # expX = np.exp(X - np.max(X))  # Subtracting max(X) for numerical stability\n",
        "    #     # return expX / np.sum(expX, axis=1, keepdims=True)\n",
        "            \n",
        "    def forward_keep_activations(self, X):\n",
        "\n",
        "        # Forward pass with hidden layer activations and pre-activations\n",
        "        z_h = np.dot(X, self.W_h) + self.b_h\n",
        "        h = sigmoid(z_h)\n",
        "        # z_o = np.dot(h, self.W_o) + self.b_o\n",
        "        # y = softmax(z_o)\n",
        "        y = np.zeros(shape=self.output_size)\n",
        "        return y, h, z_h\n",
        "        # # TODO\n",
        "        # z_h = 0.\n",
        "        # h = 0.\n",
        "        # y = np.zeros(size=self.output_size)\n",
        "        # return y, h, z_h\n",
        "    \n",
        "    \n",
        "\n",
        "    def forward(self, X):\n",
        "        # Forward pass without hidden layer activations and pre-activations\n",
        "        y, h, z_h = self.forward_keep_activations(X)\n",
        "        return y\n",
        "    \n",
        "    def loss(self, X, y):\n",
        "        # Calculate the cross-entropy loss\n",
        "        y_pred = self.forward(X)\n",
        "        loss = -np.sum(y * np.log(y_pred + EPSILON)) / len(y)\n",
        "        return loss\n",
        "\n",
        "    def grad_loss(self, X, y_true):\n",
        "        # Compute gradients of the loss with respect to all parameters\n",
        "        y_pred, h, z_h = self.forward_keep_activations(X)\n",
        "        \n",
        "        # Output layer gradients\n",
        "        dL_dy = -(y_true / (y_pred + EPSILON) - (1 - y_true) / (1 - y_pred + EPSILON))\n",
        "        dL_dW_o = np.dot(h.T, dL_dy)\n",
        "        dL_db_o = np.sum(dL_dy, axis=0)\n",
        "        \n",
        "        # Hidden layer gradients\n",
        "        dL_dh = np.dot(dL_dy, self.W_o.T)\n",
        "        dL_dz_h = dL_dh * h * (1 - h)  # Gradient of sigmoid activation\n",
        "        dL_dW_h = np.dot(X.T, dL_dz_h)\n",
        "        dL_db_h = np.sum(dL_dz_h, axis=0)\n",
        "        \n",
        "        gradients = {\"W_h\": dL_dW_h, \"b_h\": dL_db_h, \"W_o\": dL_dW_o, \"b_o\": dL_db_o}\n",
        "        return gradients\n",
        "\n",
        "    def train(self, X, y, learning_rate):\n",
        "        # Update weights and biases using gradients and learning rate\n",
        "        grads = self.grad_loss(X, y)\n",
        "        self.W_h -= learning_rate * grads[\"W_h\"]\n",
        "        self.b_h -= learning_rate * grads[\"b_h\"]\n",
        "        self.W_o -= learning_rate * grads[\"W_o\"]\n",
        "        self.b_o -= learning_rate * grads[\"b_o\"]\n",
        "\n",
        "    def predict(self, X):\n",
        "        if len(X.shape) == 1:\n",
        "            return np.argmax(self.forward(X))\n",
        "        else:\n",
        "            return np.argmax(self.forward(X), axis=1)\n",
        "\n",
        "    def accuracy(self, X, y):\n",
        "        y_preds = np.argmax(self.forward(X))\n",
        "        return np.mean(y_preds == y)"
      ]
    },
    {
      "cell_type": "code",
      "execution_count": 236,
      "metadata": {
        "id": "tsGDtoSc1wVa"
      },
      "outputs": [],
      "source": [
        "n_hidden = 10\n",
        "model = NeuralNet(n_features, n_hidden, n_classes)"
      ]
    },
    {
      "cell_type": "code",
      "execution_count": 237,
      "metadata": {
        "id": "7tj97tOr1wVb"
      },
      "outputs": [
        {
          "data": {
            "text/plain": [
              "18.420680743952367"
            ]
          },
          "execution_count": 237,
          "metadata": {},
          "output_type": "execute_result"
        }
      ],
      "source": [
        "y_one_hot = one_hot(n_classes, y_train)\n",
        "model.loss(X_train, y_one_hot)"
      ]
    },
    {
      "cell_type": "code",
      "execution_count": 238,
      "metadata": {
        "id": "ywaePrFH1wVc"
      },
      "outputs": [
        {
          "data": {
            "text/plain": [
              "0.09888670595939751"
            ]
          },
          "execution_count": 238,
          "metadata": {},
          "output_type": "execute_result"
        }
      ],
      "source": [
        "model.accuracy(X_train, y_train)"
      ]
    },
    {
      "cell_type": "code",
      "execution_count": 239,
      "metadata": {
        "id": "FL3AbzuM1wVc"
      },
      "outputs": [
        {
          "data": {
            "image/png": "[encoded data removed]",
            "text/plain": [
              "<Figure size 1000x400 with 2 Axes>"
            ]
          },
          "metadata": {},
          "output_type": "display_data"
        }
      ],
      "source": [
        "plot_prediction(model, sample_idx=5)"
      ]
    },
    {
      "cell_type": "code",
      "execution_count": null,
      "metadata": {
        "id": "j2JV9Frn1wVd"
      },
      "outputs": [],
      "source": [
        "y_one_hot = one_hot(n_classes, y_train)\n",
        "losses, accuracies, accuracies_test = [], [], []\n",
        "losses.append(model.loss(X_train, y_one_hot))\n",
        "accuracies.append(model.accuracy(X_train, y_train))\n",
        "accuracies_test.append(model.accuracy(X_test, y_test))\n",
        "\n",
        "print(\"Random init: train loss: %0.5f, train acc: %0.3f, test acc: %0.3f\"\n",
        "      % (losses[-1], accuracies[-1], accuracies_test[-1]))\n",
        "\n",
        "for epoch in range(15):\n",
        "    for i, (x, y) in enumerate(zip(X_train, y_train)):\n",
        "        model.train(x, y, 0.1)\n",
        "\n",
        "    losses.append(model.loss(X_train, y_train))\n",
        "    accuracies.append(model.accuracy(X_train, y_train))\n",
        "    accuracies_test.append(model.accuracy(X_test, y_test))\n",
        "    print(\"Epoch #%d, train loss: %0.5f, train acc: %0.3f, test acc: %0.3f\"\n",
        "          % (epoch + 1, losses[-1], accuracies[-1], accuracies_test[-1]))"
      ]
    },
    {
      "cell_type": "code",
      "execution_count": 241,
      "metadata": {
        "id": "DsoecLlj1wVd"
      },
      "outputs": [
        {
          "data": {
            "text/plain": [
              "Text(0.5, 1.0, 'Training loss')"
            ]
          },
          "execution_count": 241,
          "metadata": {},
          "output_type": "execute_result"
        },
        {
          "data": {
            "image/png": "[encoded data removed]",
            "text/plain": [
              "<Figure size 640x480 with 1 Axes>"
            ]
          },
          "metadata": {},
          "output_type": "display_data"
        }
      ],
      "source": [
        "plt.plot(losses)\n",
        "plt.title(\"Training loss\")"
      ]
    },
    {
      "cell_type": "code",
      "execution_count": 242,
      "metadata": {
        "id": "YadqDL2F1wVe"
      },
      "outputs": [
        {
          "data": {
            "image/png": "[encoded data removed]",
            "text/plain": [
              "<Figure size 640x480 with 1 Axes>"
            ]
          },
          "metadata": {},
          "output_type": "display_data"
        }
      ],
      "source": [
        "plt.plot(accuracies, label='train')\n",
        "plt.plot(accuracies_test, label='test')\n",
        "plt.ylim(0, 1.1)\n",
        "plt.ylabel(\"accuracy\")\n",
        "plt.legend(loc='best');"
      ]
    },
    {
      "cell_type": "code",
      "execution_count": 243,
      "metadata": {
        "id": "N5sqVgB61wVf"
      },
      "outputs": [
        {
          "data": {
            "image/png": "[encoded data removed]",
            "text/plain": [
              "<Figure size 1000x400 with 2 Axes>"
            ]
          },
          "metadata": {},
          "output_type": "display_data"
        }
      ],
      "source": [
        "plot_prediction(model, sample_idx=4)"
      ]
    },
    {
      "cell_type": "markdown",
      "metadata": {
        "id": "9C4_hNsO1wVf"
      },
      "source": [
        "## c) Exercises\n",
        "\n",
        "### Look at worst prediction errors\n",
        "\n",
        "- Use numpy to find test samples for which the model made the worst predictions,\n",
        "- Use the `plot_prediction` to look at the model predictions on those,\n",
        "- Would you have done any better?"
      ]
    },
    {
      "cell_type": "markdown",
      "metadata": {
        "id": "rwRjqnuz1wVg"
      },
      "source": [
        "### Hyper parameters settings\n",
        "\n",
        "- Experiment with different hyper parameters:\n",
        "  - learning rate,\n",
        "  - size of hidden layer,\n",
        "  - initialization scheme: test with 0 initialization vs uniform,\n",
        "  - implement other activation functions,\n",
        "  - implement the support for a second hidden layer.\n",
        "\n",
        "\n",
        "### Mini-batches\n",
        "\n",
        "- The current implementations of `train` and `grad_loss` function currently only accept a single sample at a time:\n",
        "    - implement the support for training with a mini-batch of 32 samples at a time instead of one,\n",
        "    - experiment with different sizes of batches,\n",
        "    - monitor the norm of the average gradients on the full training set at the end of each epoch.\n",
        "\n",
        "\n",
        "### Momentum\n",
        "\n",
        "- Bonus: Implement momentum\n",
        "\n",
        "\n",
        "### Back to Keras\n",
        "\n",
        "- Implement the same network architecture with Keras;\n",
        "\n",
        "- Check that the Keras model can approximately reproduce the behavior of the Numpy model when using similar hyperparameter values (size of the model, type of activations, learning rate value and use of momentum);\n",
        "\n",
        "- Compute the negative log likelihood of a sample 42 in the test set (can use `model.predict_proba`);\n",
        "\n",
        "- Compute the average negative log-likelihood on the full test set.\n",
        "\n",
        "- Compute the average negative log-likelihood  on the full training set and check that you can get the value of the loss reported by Keras.\n",
        "\n",
        "- Is the model overfitting or underfitting? (ensure that the model has fully converged by increasing the number of epochs to 50 or more if necessary)."
      ]
    }
  ],
  "metadata": {
    "colab": {
      "provenance": []
    },
    "kernelspec": {
      "display_name": "Python 3 (ipykernel)",
      "language": "python",
      "name": "python3"
    },
    "language_info": {
      "codemirror_mode": {
        "name": "ipython",
        "version": 3
      },
      "file_extension": ".py",
      "mimetype": "text/x-python",
      "name": "python",
      "nbconvert_exporter": "python",
      "pygments_lexer": "ipython3",
      "version": "3.10.7"
    }
  },
  "nbformat": 4,
  "nbformat_minor": 0
}
