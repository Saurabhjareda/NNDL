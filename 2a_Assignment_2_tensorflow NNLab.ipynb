{
  "cells": [
    {
      "cell_type": "markdown",
      "metadata": {
        "id": "3pvKDkk_4pRB"
      },
      "source": [
        "# Multilayer Neural Networks in TensorFlow\n",
        "\n",
        "\n",
        "### Goals:\n",
        "- Introduce the basics of `TensorFlow`\n",
        "- Auto-differentiation\n",
        "- Implement the digit classifier using the low level `TensorFlow` API without Keras abstraction."
      ]
    },
    {
      "cell_type": "markdown",
      "metadata": {
        "id": "UWQQgfEv4pRJ"
      },
      "source": [
        "# Introduction to TensorFlow\n",
        "\n",
        "TensorFlow is a dynamic graph computation engine, that allows automatic differentiation of each node. Tensorflow is the default computational backend of the Keras library. I can also be used directly from Python to build deep learning models.\n",
        "\n",
        "- https://www.tensorflow.org\n",
        "- https://www.tensorflow.org/tutorials/quickstart/advanced\n",
        "\n",
        "TensorFlow builds where nodes may be:\n",
        "- **constant:** constants tensors, such as training data;\n",
        "- **Variables:** any tensor that is meant to be updated when training, such as parameters of the models.\n",
        "\n",
        "**Note** that we are using for this course the new version Tensorflow 2.0. This version cleaned the old cluttered api and uses by default dynamic graph of operations to make it natural to design a model interactively in Jupyter. Previously you defined the graph statically once, and then needed to evaluate it by feeding it some data. Now it is dynamically defined when executing imperative Python instructions which means that you can `print` any tensor at any moment or even use `pdb.set_trace()` to inspect intermediary values."
      ]
    },
    {
      "cell_type": "code",
      "execution_count": 1,
      "metadata": {
        "colab": {
          "base_uri": "https://localhost:8080/"
        },
        "id": "nqU06FF74pRN",
        "outputId": "fd553ad5-beed-4bae-b77e-b09c5a925767"
      },
      "outputs": [
        {
          "data": {
            "text/plain": [
              "<tf.Tensor: shape=(), dtype=int32, numpy=3>"
            ]
          },
          "execution_count": 1,
          "metadata": {},
          "output_type": "execute_result"
        }
      ],
      "source": [
        "import tensorflow as tf\n",
        "\n",
        "\n",
        "a = tf.constant(3)\n",
        "a"
      ]
    },
    {
      "cell_type": "code",
      "execution_count": 2,
      "metadata": {
        "colab": {
          "base_uri": "https://localhost:8080/"
        },
        "id": "5PVt0pdm4pRS",
        "outputId": "61f875cc-ec91-4078-b924-75e4fc7dbc74"
      },
      "outputs": [
        {
          "data": {
            "text/plain": [
              "<tf.Tensor: shape=(), dtype=int32, numpy=5>"
            ]
          },
          "execution_count": 2,
          "metadata": {},
          "output_type": "execute_result"
        }
      ],
      "source": [
        "c = tf.Variable(0)\n",
        "b = tf.constant(2)\n",
        "\n",
        "c = a + b\n",
        "\n",
        "c"
      ]
    },
    {
      "cell_type": "code",
      "execution_count": 3,
      "metadata": {
        "colab": {
          "base_uri": "https://localhost:8080/"
        },
        "id": "ao-LXGvy4pRU",
        "outputId": "16bedd9a-2adc-44fb-9d81-215c7fa30ab5"
      },
      "outputs": [
        {
          "data": {
            "text/plain": [
              "<tf.Tensor: shape=(2, 2), dtype=float32, numpy=\n",
              "array([[0., 1.],\n",
              "       [2., 3.]], dtype=float32)>"
            ]
          },
          "execution_count": 3,
          "metadata": {},
          "output_type": "execute_result"
        }
      ],
      "source": [
        "A = tf.constant([[0, 1], [2, 3]], dtype=tf.float32)\n",
        "A"
      ]
    },
    {
      "cell_type": "markdown",
      "metadata": {
        "id": "riENfZK-4pRW"
      },
      "source": [
        "A tf.Tensor can be converted to numpy the following way:"
      ]
    },
    {
      "cell_type": "code",
      "execution_count": 4,
      "metadata": {
        "colab": {
          "base_uri": "https://localhost:8080/"
        },
        "id": "c8wx0iF74pRX",
        "outputId": "f4df8677-7af6-4fb9-e753-f444e797ab42"
      },
      "outputs": [
        {
          "data": {
            "text/plain": [
              "array([[0., 1.],\n",
              "       [2., 3.]], dtype=float32)"
            ]
          },
          "execution_count": 4,
          "metadata": {},
          "output_type": "execute_result"
        }
      ],
      "source": [
        "A.numpy()"
      ]
    },
    {
      "cell_type": "code",
      "execution_count": 5,
      "metadata": {
        "colab": {
          "base_uri": "https://localhost:8080/"
        },
        "id": "HG3JcP9k4pRZ",
        "outputId": "ccd74107-8834-4e7b-dc06-e1613f156aa7"
      },
      "outputs": [
        {
          "data": {
            "text/plain": [
              "<tf.Variable 'Variable:0' shape=(2,) dtype=float32, numpy=array([1., 2.], dtype=float32)>"
            ]
          },
          "execution_count": 5,
          "metadata": {},
          "output_type": "execute_result"
        }
      ],
      "source": [
        "b = tf.Variable([1, 2], dtype=tf.float32)\n",
        "b"
      ]
    },
    {
      "cell_type": "code",
      "execution_count": 6,
      "metadata": {
        "colab": {
          "base_uri": "https://localhost:8080/"
        },
        "id": "BTO17qyC4pRb",
        "outputId": "d8538dad-2428-4192-cb5d-bf1e24648347"
      },
      "outputs": [
        {
          "data": {
            "text/plain": [
              "<tf.Tensor: shape=(2, 1), dtype=float32, numpy=\n",
              "array([[1.],\n",
              "       [2.]], dtype=float32)>"
            ]
          },
          "execution_count": 6,
          "metadata": {},
          "output_type": "execute_result"
        }
      ],
      "source": [
        "tf.reshape(b, (-1, 1))"
      ]
    },
    {
      "cell_type": "code",
      "execution_count": 7,
      "metadata": {
        "colab": {
          "base_uri": "https://localhost:8080/"
        },
        "id": "seYeaEHZ4pRc",
        "outputId": "42095706-f792-47f7-f92b-708840eecbfc"
      },
      "outputs": [
        {
          "data": {
            "text/plain": [
              "<tf.Tensor: shape=(2, 1), dtype=float32, numpy=\n",
              "array([[2.],\n",
              "       [8.]], dtype=float32)>"
            ]
          },
          "execution_count": 7,
          "metadata": {},
          "output_type": "execute_result"
        }
      ],
      "source": [
        "tf.matmul(A, tf.reshape(b, (-1, 1)))"
      ]
    },
    {
      "cell_type": "markdown",
      "metadata": {
        "id": "j3QjXZe34pRe"
      },
      "source": [
        "### Exercise\n",
        "\n",
        "Write a function that computes the squared Euclidean norm of an 1D tensor of input x:\n",
        "\n",
        "- Use element wise arithmetic operations (`+`, `-`, `*`,  `/`, `**`)\n",
        "- Use `tf.reduce_sum` to compute the sum of the element of a Tensor."
      ]
    },
    {
      "cell_type": "code",
      "execution_count": 10,
      "metadata": {
        "colab": {
          "base_uri": "https://localhost:8080/"
        },
        "id": "Vkxk6TMH4pRf",
        "outputId": "87b46745-7032-46df-a405-0cd7ec6224b7"
      },
      "outputs": [
        {
          "data": {
            "text/plain": [
              "<tf.Variable 'Variable:0' shape=(2,) dtype=float32, numpy=array([ 1., -4.], dtype=float32)>"
            ]
          },
          "execution_count": 10,
          "metadata": {},
          "output_type": "execute_result"
        }
      ],
      "source": [
        "x = tf.Variable([1, -4], dtype=tf.float32)\n",
        "x"
      ]
    },
    {
      "cell_type": "code",
      "execution_count": 8,
      "metadata": {
        "id": "Ceut-vP54pRh"
      },
      "outputs": [],
      "source": [
        "def squared_norm(x):\n",
        "    # TODO: sum of the squared elements of x\n",
        "    # Compute the element-wise square of the input tensor\n",
        "    squared_elements = x * x\n",
        "    # Compute the sum of squared elements using tf.reduce_sum\n",
        "    squared_norm = tf.reduce_sum(squared_elements)\n",
        "\n",
        "    return squared_norm"
      ]
    },
    {
      "cell_type": "code",
      "execution_count": 11,
      "metadata": {
        "colab": {
          "base_uri": "https://localhost:8080/"
        },
        "id": "k5v0cgUP4pRj",
        "outputId": "8f872545-8668-40c6-9004-598c8b8d6cbd"
      },
      "outputs": [
        {
          "data": {
            "text/plain": [
              "<tf.Tensor: shape=(), dtype=float32, numpy=17.0>"
            ]
          },
          "execution_count": 11,
          "metadata": {},
          "output_type": "execute_result"
        }
      ],
      "source": [
        "squared_norm(x)"
      ]
    },
    {
      "cell_type": "code",
      "execution_count": 12,
      "metadata": {
        "colab": {
          "base_uri": "https://localhost:8080/"
        },
        "id": "2VpRhXcB4pRj",
        "outputId": "ade749c6-3e46-4952-829b-057c88f79f1b"
      },
      "outputs": [
        {
          "data": {
            "text/plain": [
              "17.0"
            ]
          },
          "execution_count": 12,
          "metadata": {},
          "output_type": "execute_result"
        }
      ],
      "source": [
        "squared_norm(x).numpy()"
      ]
    },
    {
      "cell_type": "markdown",
      "metadata": {
        "id": "dmYS00S-4pRk"
      },
      "source": [
        "### Autodiff and Gradient Descent"
      ]
    },
    {
      "cell_type": "code",
      "execution_count": 13,
      "metadata": {
        "colab": {
          "base_uri": "https://localhost:8080/"
        },
        "id": "jdDCQJ_Q4pRl",
        "outputId": "9cbb525c-1dd7-41a8-eecc-963984329542"
      },
      "outputs": [
        {
          "data": {
            "text/plain": [
              "[<tf.Tensor: shape=(2,), dtype=float32, numpy=array([ 2., -8.], dtype=float32)>]"
            ]
          },
          "execution_count": 13,
          "metadata": {},
          "output_type": "execute_result"
        }
      ],
      "source": [
        "x = tf.Variable([1, -4], dtype=tf.float32)\n",
        "\n",
        "\n",
        "with tf.GradientTape() as tape:\n",
        "    result = squared_norm(x)\n",
        "\n",
        "\n",
        "variables = [x]\n",
        "gradients = tape.gradient(result, variables)\n",
        "gradients"
      ]
    },
    {
      "cell_type": "code",
      "execution_count": 14,
      "metadata": {
        "id": "l6ffqVih4pRm"
      },
      "outputs": [],
      "source": [
        "grad_x = gradients[0]"
      ]
    },
    {
      "cell_type": "code",
      "execution_count": 15,
      "metadata": {
        "colab": {
          "base_uri": "https://localhost:8080/"
        },
        "id": "9hp5-e744pRm",
        "outputId": "80e79385-e151-43e3-b7cd-0c916c82d2a8"
      },
      "outputs": [
        {
          "data": {
            "text/plain": [
              "<tf.Variable 'Variable:0' shape=(2,) dtype=float32, numpy=array([ 1., -4.], dtype=float32)>"
            ]
          },
          "execution_count": 15,
          "metadata": {},
          "output_type": "execute_result"
        }
      ],
      "source": [
        "x"
      ]
    },
    {
      "cell_type": "markdown",
      "metadata": {
        "id": "6EY1QIqF4pRn"
      },
      "source": [
        "We can apply a gradient step to modify x in place by taking one step of gradient descent:"
      ]
    },
    {
      "cell_type": "code",
      "execution_count": 21,
      "metadata": {
        "colab": {
          "base_uri": "https://localhost:8080/"
        },
        "id": "hvIuxPvi4pRn",
        "outputId": "e385f87a-7ce3-494e-ae11-860b40f224f2"
      },
      "outputs": [
        {
          "data": {
            "text/plain": [
              "array([-0.19999997,  0.7999999 ], dtype=float32)"
            ]
          },
          "execution_count": 21,
          "metadata": {},
          "output_type": "execute_result"
        }
      ],
      "source": [
        "x.assign_sub(0.1 * grad_x)\n",
        "x.numpy()"
      ]
    },
    {
      "cell_type": "markdown",
      "metadata": {
        "id": "8JOO0u9R4pRo"
      },
      "source": [
        "Execute the following gradient descent step many times consecutively to watch the decrease of the objective function and the values of `x` converging to the minimum of the `squared_norm` function.\n",
        "\n",
        "Hit `[ctrl]-[enter]` several times to execute the same Jupyter notebook cell over and over again."
      ]
    },
    {
      "cell_type": "code",
      "execution_count": 22,
      "metadata": {
        "colab": {
          "base_uri": "https://localhost:8080/"
        },
        "id": "Vw_xtejk4pRo",
        "outputId": "a185e46d-6c78-4754-d6b1-ddf141aef589"
      },
      "outputs": [
        {
          "name": "stdout",
          "output_type": "stream",
          "text": [
            "objective = 6.799998e-01\n",
            "x = [-0.15999998  0.6399999 ]\n"
          ]
        }
      ],
      "source": [
        "with tf.GradientTape() as tape:\n",
        "    objective = squared_norm(x)\n",
        "\n",
        "x.assign_sub(0.1 * tape.gradient(objective, [x])[0])\n",
        "\n",
        "print(f\"objective = {objective.numpy():e}\")\n",
        "print(f\"x = {x.numpy()}\")"
      ]
    },
    {
      "cell_type": "markdown",
      "metadata": {
        "id": "0gV_bzkY4pRp"
      },
      "source": [
        "### Device-aware Memory Allocation"
      ]
    },
    {
      "cell_type": "markdown",
      "metadata": {
        "id": "oLzVREC84pRq"
      },
      "source": [
        "To explicitely place tensors on a device, use context managers:"
      ]
    },
    {
      "cell_type": "code",
      "execution_count": 23,
      "metadata": {
        "colab": {
          "base_uri": "https://localhost:8080/",
          "height": 36
        },
        "id": "ojrMSF9O4pRr",
        "outputId": "474b21f0-e958-4eee-ed91-8f542d1f2fc9"
      },
      "outputs": [
        {
          "data": {
            "application/vnd.google.colaboratory.intrinsic+json": {
              "type": "string"
            },
            "text/plain": [
              "'/job:localhost/replica:0/task:0/device:CPU:0'"
            ]
          },
          "execution_count": 23,
          "metadata": {},
          "output_type": "execute_result"
        }
      ],
      "source": [
        "with tf.device(\"CPU:0\"):\n",
        "    x_cpu = tf.constant(3)\n",
        "\n",
        "# with tf.device(\"GPU:0\"):\n",
        "#     x_gpu = tf.constant(3)\n",
        "x_cpu.device"
      ]
    },
    {
      "cell_type": "markdown",
      "metadata": {
        "id": "F9Ad_e0N4pRr"
      },
      "source": [
        "## Building a Digits Classifier in TensorFlow\n",
        "\n",
        "### Dataset:\n",
        "\n",
        "- http://scikit-learn.org/stable/modules/generated/sklearn.datasets.load_digits.html#sklearn.datasets.load_digits"
      ]
    },
    {
      "cell_type": "code",
      "execution_count": 24,
      "metadata": {
        "colab": {
          "base_uri": "https://localhost:8080/",
          "height": 314
        },
        "id": "lNdKWMIH4pRr",
        "outputId": "ca3d6d4b-9c84-46a7-de15-8e73e32750d8"
      },
      "outputs": [
        {
          "data": {
            "image/png": "[encoded data removed]",
            "text/plain": [
              "<Figure size 300x300 with 1 Axes>"
            ]
          },
          "metadata": {},
          "output_type": "display_data"
        }
      ],
      "source": [
        "%matplotlib inline\n",
        "import matplotlib.pyplot as plt\n",
        "from sklearn.datasets import load_digits\n",
        "\n",
        "digits = load_digits()\n",
        "\n",
        "sample_index = 45\n",
        "plt.figure(figsize=(3, 3))\n",
        "plt.imshow(digits.images[sample_index], cmap=plt.cm.gray_r,\n",
        "           interpolation='nearest')\n",
        "plt.title(\"image label: %d\" % digits.target[sample_index])"
      ]
    },
    {
      "cell_type": "markdown",
      "metadata": {
        "id": "Mojw-Vwk4pRr"
      },
      "source": [
        "### Preprocessing\n",
        "\n",
        "- Normalization\n",
        "- Train / test split"
      ]
    },
    {
      "cell_type": "code",
      "execution_count": 25,
      "metadata": {
        "colab": {
          "base_uri": "https://localhost:8080/"
        },
        "id": "RDYGfKbW4pRt",
        "outputId": "fa44e949-c7fb-4d49-9b89-0ea2b79709cf"
      },
      "outputs": [
        {
          "data": {
            "text/plain": [
              "(((1527, 64), (1527,)), ((270, 64), (270,)))"
            ]
          },
          "execution_count": 25,
          "metadata": {},
          "output_type": "execute_result"
        }
      ],
      "source": [
        "import numpy as np\n",
        "from sklearn import preprocessing\n",
        "from sklearn.model_selection import train_test_split\n",
        "\n",
        "data = np.asarray(digits.data, dtype='float32')\n",
        "target = np.asarray(digits.target, dtype='int32')\n",
        "\n",
        "X_train, X_test, y_train, y_test = train_test_split(\n",
        "    data, target, test_size=0.15, random_state=37)\n",
        "\n",
        "# mean = 0 ; standard deviation = 1.0\n",
        "scaler = preprocessing.StandardScaler()\n",
        "X_train = scaler.fit_transform(X_train)\n",
        "X_test = scaler.transform(X_test)\n",
        "\n",
        "# print(scaler.mean_)\n",
        "# print(scaler.scale_)\n",
        "(X_train.shape, y_train.shape), (X_test.shape, y_test.shape)"
      ]
    },
    {
      "cell_type": "markdown",
      "metadata": {
        "id": "QFeRm64y4pRt"
      },
      "source": [
        "TensorFlow provides dataset abstraction which makes it is to iterate over the data batch by batch:"
      ]
    },
    {
      "cell_type": "code",
      "execution_count": 26,
      "metadata": {
        "id": "c3htv-3q4pRt"
      },
      "outputs": [],
      "source": [
        "def gen_dataset(x, y, batch_size=128):\n",
        "    dataset = tf.data.Dataset.from_tensor_slices((x, y))\n",
        "    dataset = dataset.shuffle(buffer_size=10000, seed=42)\n",
        "    dataset = dataset.batch(batch_size=batch_size)\n",
        "    return dataset"
      ]
    },
    {
      "cell_type": "code",
      "execution_count": 27,
      "metadata": {
        "colab": {
          "base_uri": "https://localhost:8080/"
        },
        "id": "DxItVk174pRu",
        "outputId": "85a7517f-d4c2-4efe-e1e1-12df3af34a1a"
      },
      "outputs": [
        {
          "data": {
            "text/plain": [
              "<_BatchDataset element_spec=(TensorSpec(shape=(None, 64), dtype=tf.float32, name=None), TensorSpec(shape=(None,), dtype=tf.int32, name=None))>"
            ]
          },
          "execution_count": 27,
          "metadata": {},
          "output_type": "execute_result"
        }
      ],
      "source": [
        "dataset = gen_dataset(X_train, y_train)\n",
        "dataset"
      ]
    },
    {
      "cell_type": "code",
      "execution_count": 28,
      "metadata": {
        "colab": {
          "base_uri": "https://localhost:8080/"
        },
        "id": "pNQ9sQRd4pRv",
        "outputId": "1c35f66b-a483-4e3d-a209-e5f27c275e9f"
      },
      "outputs": [
        {
          "data": {
            "text/plain": [
              "TensorShape([128, 64])"
            ]
          },
          "execution_count": 28,
          "metadata": {},
          "output_type": "execute_result"
        }
      ],
      "source": [
        "batch_x, batch_y = next(iter(dataset))\n",
        "batch_x.shape"
      ]
    },
    {
      "cell_type": "code",
      "execution_count": 29,
      "metadata": {
        "colab": {
          "base_uri": "https://localhost:8080/"
        },
        "id": "rptCkU5-4pRv",
        "outputId": "c4705e21-38a1-4869-c08d-612e947e68ac"
      },
      "outputs": [
        {
          "data": {
            "text/plain": [
              "TensorShape([128])"
            ]
          },
          "execution_count": 29,
          "metadata": {},
          "output_type": "execute_result"
        }
      ],
      "source": [
        "batch_y.shape"
      ]
    },
    {
      "cell_type": "markdown",
      "metadata": {
        "id": "IHR7aMsS4pRw"
      },
      "source": [
        "### Build a model using TensorFlow\n",
        "\n",
        "- Using TensorFlow, build a similar model (one hidden layer) as you previously did;\n",
        "- The input will be a batch coming from X_train, and the output will be a batch of ints;\n",
        "- The output do not need be normalized as probabilities, the softmax will be moved to the loss function."
      ]
    },
    {
      "cell_type": "code",
      "execution_count": 30,
      "metadata": {
        "id": "Z6wYtEWN4pRw"
      },
      "outputs": [],
      "source": [
        "# helper functions to use to test your randomly initialized model:\n",
        "\n",
        "def init_weights(shape):\n",
        "    return tf.Variable(tf.random.normal(shape, stddev=0.01))\n",
        "\n",
        "\n",
        "def accuracy(y_pred, y):\n",
        "    return np.mean(np.argmax(y_pred, axis=1) == y)\n",
        "\n",
        "\n",
        "def test_model(model, x, y):\n",
        "    dataset = gen_dataset(x, y)\n",
        "    preds, targets = [], []\n",
        "\n",
        "    for batch_x, batch_y in dataset:\n",
        "        preds.append(model(batch_x).numpy())\n",
        "        targets.append(batch_y.numpy())\n",
        "\n",
        "    preds, targets = np.concatenate(preds), np.concatenate(targets)\n",
        "    return accuracy(preds, targets)"
      ]
    },
    {
      "cell_type": "markdown",
      "metadata": {
        "id": "HXcEcY2U4pRx"
      },
      "source": [
        "Define your model there, and then execute the following cell to train your model.\n",
        "Don't hesitate to tweak the hyperparameters."
      ]
    },
    {
      "cell_type": "code",
      "execution_count": 31,
      "metadata": {
        "id": "H6HsNHhq4pRz"
      },
      "outputs": [],
      "source": [
        "# hyperparams\n",
        "batch_size = 32\n",
        "hid_size = 15\n",
        "learning_rate = 0.5\n",
        "num_epochs = 10\n",
        "input_size = X_train.shape[1]\n",
        "output_size = 10\n",
        "\n",
        "\n",
        "# build the model and weights\n",
        "class MyModel:\n",
        "    def __init__(self, input_size, hid_size, output_size):\n",
        "        # TODO: randomly initialize all the internal variables of the model:\n",
        "        # Initialize weights and biases for the hidden layer\n",
        "        self.W_h = tf.Variable(tf.random.normal([input_size, hid_size], stddev=0.01))\n",
        "        self.b_h = tf.Variable(tf.zeros([hid_size]))\n",
        "\n",
        "        # Initialize weights and biases for the output layer\n",
        "        self.W_o = tf.Variable(tf.random.normal([hid_size, output_size], stddev=0.01))\n",
        "        self.b_o = tf.Variable(tf.zeros([output_size]))\n",
        "\n",
        "    def __call__(self, inputs):\n",
        "        # TODO: this method should implement the forward pass with\n",
        "        # tensorflow operations: compute the outputs, that is the\n",
        "        # unnormalized predictions of the network for a give batch\n",
        "        # of inputs vectors.\n",
        "        # No need to implement the softmax operations as we will\n",
        "        # move it the loss function instead.\n",
        "\n",
        "        # Hint: you can use tf.matmul, tf.tanh, tf.sigmoid,\n",
        "        # arithmetic operations and so on.\n",
        "\n",
        "        # Forward pass\n",
        "        h = tf.nn.tanh(tf.matmul(inputs, self.W_h) + self.b_h)  # Hidden layer with tanh activation\n",
        "        logits = tf.matmul(h, self.W_o) + self.b_o  # Output layer\n",
        "\n",
        "        return logits\n",
        "\n",
        "model = MyModel(input_size, hid_size, output_size)"
      ]
    },
    {
      "cell_type": "code",
      "execution_count": 32,
      "metadata": {
        "colab": {
          "base_uri": "https://localhost:8080/"
        },
        "id": "wPNdGDUl4pR0",
        "outputId": "567e9ef9-5612-4fcf-a9d3-19b005471a08"
      },
      "outputs": [
        {
          "data": {
            "text/plain": [
              "0.1259259259259259"
            ]
          },
          "execution_count": 32,
          "metadata": {},
          "output_type": "execute_result"
        }
      ],
      "source": [
        "test_model(model, X_test, y_test)"
      ]
    },
    {
      "cell_type": "markdown",
      "metadata": {
        "id": "gya6jmWk4pR1"
      },
      "source": [
        "The following implements a training loop in Python. Note the use of `tf.GradientTape` to automatically compute the gradients of the loss w.r.t. the different parameters of the model:"
      ]
    },
    {
      "cell_type": "code",
      "execution_count": 33,
      "metadata": {
        "colab": {
          "base_uri": "https://localhost:8080/",
          "height": 621
        },
        "id": "L_xe-LfR4pR1",
        "outputId": "29f68d92-1508-46f0-e9e5-4798330932c0"
      },
      "outputs": [
        {
          "name": "stdout",
          "output_type": "stream",
          "text": [
            "Epoch 0, train_acc = 0.9267, test_acc = 0.9111\n",
            "Epoch 1, train_acc = 0.979, test_acc = 0.9481\n",
            "Epoch 2, train_acc = 0.9889, test_acc = 0.963\n",
            "Epoch 3, train_acc = 0.9908, test_acc = 0.963\n",
            "Epoch 4, train_acc = 0.9928, test_acc = 0.9667\n",
            "Epoch 5, train_acc = 0.9961, test_acc = 0.9667\n",
            "Epoch 6, train_acc = 0.998, test_acc = 0.9667\n",
            "Epoch 7, train_acc = 0.998, test_acc = 0.963\n",
            "Epoch 8, train_acc = 0.998, test_acc = 0.963\n",
            "Epoch 9, train_acc = 0.9987, test_acc = 0.963\n"
          ]
        },
        {
          "data": {
            "text/plain": [
              "[<matplotlib.lines.Line2D at 0x793e952693f0>]"
            ]
          },
          "execution_count": 33,
          "metadata": {},
          "output_type": "execute_result"
        },
        {
          "data": {
            "image/png": "[encoded data removed]",
            "text/plain": [
              "<Figure size 640x480 with 1 Axes>"
            ]
          },
          "metadata": {},
          "output_type": "display_data"
        }
      ],
      "source": [
        "losses = []\n",
        "for e in range(num_epochs):\n",
        "    train_dataset = gen_dataset(X_train, y_train, batch_size=batch_size)\n",
        "\n",
        "    for batch_x, batch_y in train_dataset:\n",
        "        # tf.GradientTape records the activation to compute the gradients:\n",
        "        with tf.GradientTape() as tape:\n",
        "            logits = model(batch_x)\n",
        "            loss = tf.reduce_mean(tf.nn.sparse_softmax_cross_entropy_with_logits(batch_y, logits))\n",
        "            losses.append(loss.numpy())\n",
        "\n",
        "        # Here we ask for the gradients of dL/dW_h, etc.\n",
        "        dW_h, db_h, dW_o, db_o = tape.gradient(\n",
        "            loss, [model.W_h, model.b_h, model.W_o, model.b_o])\n",
        "\n",
        "        # Update the weights as a Stochastic Gradient Descent would do:\n",
        "        model.W_h.assign_sub(learning_rate * dW_h)\n",
        "        model.b_h.assign_sub(learning_rate * db_h)\n",
        "        model.W_o.assign_sub(learning_rate * dW_o)\n",
        "        model.b_o.assign_sub(learning_rate * db_o)\n",
        "\n",
        "    train_acc = test_model(model, X_train, y_train)\n",
        "    test_acc = test_model(model, X_test, y_test)\n",
        "    print(\"Epoch {}, train_acc = {}, test_acc = {}\".format(e, round(train_acc, 4), round(test_acc, 4)))\n",
        "\n",
        "plt.plot(losses)"
      ]
    },
    {
      "cell_type": "code",
      "execution_count": 34,
      "metadata": {
        "colab": {
          "base_uri": "https://localhost:8080/"
        },
        "id": "kfHLH9sB4pR2",
        "outputId": "417fb3ba-f499-4c35-eeb1-a77e85d71464"
      },
      "outputs": [
        {
          "data": {
            "text/plain": [
              "0.9629629629629629"
            ]
          },
          "execution_count": 34,
          "metadata": {},
          "output_type": "execute_result"
        }
      ],
      "source": [
        "test_model(model, X_test, y_test)"
      ]
    },
    {
      "cell_type": "code",
      "execution_count": 35,
      "metadata": {
        "colab": {
          "base_uri": "https://localhost:8080/"
        },
        "id": "4b66lmLs4pR2",
        "outputId": "44ea1d50-9af6-49b2-c3f9-4d3d922b3941"
      },
      "outputs": [
        {
          "data": {
            "text/plain": [
              "0.9986902423051736"
            ]
          },
          "execution_count": 35,
          "metadata": {},
          "output_type": "execute_result"
        }
      ],
      "source": [
        "test_model(model, X_train, y_train)"
      ]
    }
  ],
  "metadata": {
    "colab": {
      "provenance": []
    },
    "kernelspec": {
      "display_name": "Python 3",
      "language": "python",
      "name": "python3"
    },
    "language_info": {
      "codemirror_mode": {
        "name": "ipython",
        "version": 3
      },
      "file_extension": ".py",
      "mimetype": "text/x-python",
      "name": "python",
      "nbconvert_exporter": "python",
      "pygments_lexer": "ipython3",
      "version": "3.7.6"
    }
  },
  "nbformat": 4,
  "nbformat_minor": 0
}
